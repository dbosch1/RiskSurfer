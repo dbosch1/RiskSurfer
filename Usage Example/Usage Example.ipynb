{
 "cells": [
  {
   "cell_type": "markdown",
   "metadata": {},
   "source": [
    "# Usage of the risksurfer Python package\n",
    "\n",
    "#### Below are some examples of how to use the various functionalities provided by the RiskSurfer package."
   ]
  },
  {
   "cell_type": "markdown",
   "metadata": {},
   "source": [
    "Install the package from the GitHub Repository"
   ]
  },
  {
   "cell_type": "code",
   "execution_count": null,
   "metadata": {},
   "outputs": [],
   "source": [
    "!pip install git+https://github.com/dbosch1/RiskSurfer.git"
   ]
  },
  {
   "cell_type": "markdown",
   "metadata": {},
   "source": [
    "Example: Fetching Stock Data"
   ]
  },
  {
   "cell_type": "code",
   "execution_count": null,
   "metadata": {},
   "outputs": [],
   "source": [
    "from risksurfer.dataFetching import getStockData\n",
    "\n",
    "# Fetch stock data for Apple and Microsoft over the past year\n",
    "data = getStockData(['AAPL', 'MSFT'], period='1y')\n",
    "print(data)"
   ]
  },
  {
   "cell_type": "markdown",
   "metadata": {},
   "source": [
    "Example: Comparing Stock Performance"
   ]
  },
  {
   "cell_type": "code",
   "execution_count": null,
   "metadata": {},
   "outputs": [],
   "source": [
    "from risksurfer.riskAnalysis import compareStockPerformance\n",
    "\n",
    "# Compare performance of Apple and Microsoft over the past year\n",
    "performance = compareStockPerformance(['AAPL', 'MSFT'], period='1y')\n",
    "print(performance)"
   ]
  },
  {
   "cell_type": "markdown",
   "metadata": {},
   "source": [
    "Example: Calculating Risk Metrics"
   ]
  },
  {
   "cell_type": "code",
   "execution_count": null,
   "metadata": {},
   "outputs": [],
   "source": [
    "from risksurfer.riskAnalysis import calculateRiskMetrics\n",
    "\n",
    "# Calculate risk metrics for Apple and Microsoft over the past year\n",
    "risk_metrics = calculateRiskMetrics(['AAPL', 'MSFT'], period='1y')\n",
    "print(risk_metrics)\n"
   ]
  },
  {
   "cell_type": "markdown",
   "metadata": {},
   "source": [
    "Example: Calculating VaR and CVaR"
   ]
  },
  {
   "cell_type": "code",
   "execution_count": null,
   "metadata": {},
   "outputs": [],
   "source": [
    "from risksurfer.riskAnalysis import calculateVaR, calculateCVaR\n",
    "\n",
    "# Calculate VaR for Apple and Microsoft\n",
    "var = calculateVaR(['AAPL', 'MSFT'], confidenceLevel=0.95, period='1y')\n",
    "print(var)\n",
    "\n",
    "# Calculate CVaR for Apple and Microsoft\n",
    "cvar = calculateCVaR(['AAPL', 'MSFT'], confidenceLevel=0.95, period='1y')\n",
    "print(cvar)\n"
   ]
  },
  {
   "cell_type": "markdown",
   "metadata": {},
   "source": [
    "Example: Generating ESG Scores"
   ]
  },
  {
   "cell_type": "code",
   "execution_count": null,
   "metadata": {},
   "outputs": [],
   "source": [
    "from risksurfer.sustainableInvestors import getTickerEsgScores\n",
    "\n",
    "# Generate random ESG scores for Apple and Microsoft\n",
    "esg_mean, esg_scores = getTickerEsgScores(['AAPL', 'MSFT'])\n",
    "print(f\"Mean ESG Score: {esg_mean}\")\n",
    "print(esg_scores)"
   ]
  },
  {
   "cell_type": "markdown",
   "metadata": {},
   "source": [
    "Example: Visualizing Stock Performance"
   ]
  },
  {
   "cell_type": "code",
   "execution_count": null,
   "metadata": {},
   "outputs": [],
   "source": [
    "from risksurfer.dataVisualization import plotStockPerformance\n",
    "\n",
    "# Plot stock performance for Apple and Microsoft\n",
    "plotStockPerformance(['AAPL', 'MSFT'], period='1y')"
   ]
  },
  {
   "cell_type": "markdown",
   "metadata": {},
   "source": [
    "Example: Visualizing Risk Metrics"
   ]
  },
  {
   "cell_type": "code",
   "execution_count": null,
   "metadata": {},
   "outputs": [],
   "source": [
    "from risksurfer.dataVisualization import plotRiskMetrics\n",
    "\n",
    "# Plot risk metrics for Apple and Microsoft\n",
    "plotRiskMetrics(['AAPL', 'MSFT'], period='1y')"
   ]
  },
  {
   "cell_type": "markdown",
   "metadata": {},
   "source": [
    "Example: Visualizing VaR and CVaR"
   ]
  },
  {
   "cell_type": "code",
   "execution_count": null,
   "metadata": {},
   "outputs": [],
   "source": [
    "from risksurfer.dataVisualization import plotVaRAndCVaR\n",
    "\n",
    "# Plot VaR and CVaR for Apple and Microsoft\n",
    "plotVaRAndCVaR(['AAPL', 'MSFT'], confidenceLevel=0.95, period='1y')"
   ]
  }
 ],
 "metadata": {
  "language_info": {
   "name": "python"
  }
 },
 "nbformat": 4,
 "nbformat_minor": 2
}
